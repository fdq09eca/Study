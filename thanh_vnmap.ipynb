{
  "nbformat": 4,
  "nbformat_minor": 0,
  "metadata": {
    "colab": {
      "name": "thanh_vnmap.ipynb",
      "provenance": [],
      "collapsed_sections": [],
      "authorship_tag": "ABX9TyPUlKEzDMNOuvQXHiL6PqdC",
      "include_colab_link": true
    },
    "kernelspec": {
      "name": "python3",
      "display_name": "Python 3"
    }
  },
  "cells": [
    {
      "cell_type": "markdown",
      "metadata": {
        "id": "view-in-github",
        "colab_type": "text"
      },
      "source": [
        "<a href=\"https://colab.research.google.com/github/fdq09eca/Study/blob/FoTan/thanh_vnmap.ipynb\" target=\"_parent\"><img src=\"https://colab.research.google.com/assets/colab-badge.svg\" alt=\"Open In Colab\"/></a>"
      ]
    },
    {
      "cell_type": "code",
      "metadata": {
        "id": "DXYhDxzGvlup",
        "colab_type": "code",
        "colab": {}
      },
      "source": [
        "# !pip install folium geopandas imgkit\n",
        "# import folium\n",
        "# import pandas\n",
        "# from google.colab import drive\n",
        "# drive.mount('/content/drive/')"
      ],
      "execution_count": 0,
      "outputs": []
    },
    {
      "cell_type": "code",
      "metadata": {
        "id": "IOYSzpCeW5Vd",
        "colab_type": "code",
        "colab": {
          "base_uri": "https://localhost:8080/",
          "height": 204
        },
        "outputId": "11db67b6-8b4d-4eaf-e526-6e21d9a3f563"
      },
      "source": [
        "df_rain = pd.read_csv('/content/drive/My Drive/Thanh_map/precipitation.csv')\n",
        "df_rain = pd.concat([df_rain,df_rain['district'].str.split(',',expand=True)],axis='columns').drop(columns='district')\n",
        "df_rain = df_rain.rename(columns={0:'District',1:'Province','province':'p_id'})\n",
        "m_cols= ['jan', 'feb', 'mar', 'apr', 'may', 'jun', 'jul', 'aug', 'sep', 'oct',\n",
        "       'nov', 'dec']\n",
        "df_rain['yr_rain'] = df_rain[m_cols].sum(axis='columns')\n",
        "df_rain.drop(columns=m_cols, inplace = True)\n",
        "df_rain['District'] = df_rain['District'].str.strip().str.replace('Disctrict','Quan').str.replace('District','Quan')\n",
        "\n",
        "df_rain.head()"
      ],
      "execution_count": 381,
      "outputs": [
        {
          "output_type": "execute_result",
          "data": {
            "text/html": [
              "<div>\n",
              "<style scoped>\n",
              "    .dataframe tbody tr th:only-of-type {\n",
              "        vertical-align: middle;\n",
              "    }\n",
              "\n",
              "    .dataframe tbody tr th {\n",
              "        vertical-align: top;\n",
              "    }\n",
              "\n",
              "    .dataframe thead th {\n",
              "        text-align: right;\n",
              "    }\n",
              "</style>\n",
              "<table border=\"1\" class=\"dataframe\">\n",
              "  <thead>\n",
              "    <tr style=\"text-align: right;\">\n",
              "      <th></th>\n",
              "      <th>p_id</th>\n",
              "      <th>District</th>\n",
              "      <th>Province</th>\n",
              "      <th>yr_rain</th>\n",
              "    </tr>\n",
              "  </thead>\n",
              "  <tbody>\n",
              "    <tr>\n",
              "      <th>0</th>\n",
              "      <td>1</td>\n",
              "      <td>Ba Dinh</td>\n",
              "      <td>Ha Noi</td>\n",
              "      <td>0.0</td>\n",
              "    </tr>\n",
              "    <tr>\n",
              "      <th>1</th>\n",
              "      <td>1</td>\n",
              "      <td>Hoan Kiem</td>\n",
              "      <td>Ha Noi</td>\n",
              "      <td>0.0</td>\n",
              "    </tr>\n",
              "    <tr>\n",
              "      <th>2</th>\n",
              "      <td>1</td>\n",
              "      <td>Tay Ho</td>\n",
              "      <td>Ha Noi</td>\n",
              "      <td>0.0</td>\n",
              "    </tr>\n",
              "    <tr>\n",
              "      <th>3</th>\n",
              "      <td>1</td>\n",
              "      <td>Long Bien</td>\n",
              "      <td>Ha Noi</td>\n",
              "      <td>0.0</td>\n",
              "    </tr>\n",
              "    <tr>\n",
              "      <th>4</th>\n",
              "      <td>1</td>\n",
              "      <td>Cau Giay</td>\n",
              "      <td>Ha Noi</td>\n",
              "      <td>0.0</td>\n",
              "    </tr>\n",
              "  </tbody>\n",
              "</table>\n",
              "</div>"
            ],
            "text/plain": [
              "   p_id   District Province  yr_rain\n",
              "0     1    Ba Dinh   Ha Noi      0.0\n",
              "1     1  Hoan Kiem   Ha Noi      0.0\n",
              "2     1     Tay Ho   Ha Noi      0.0\n",
              "3     1  Long Bien   Ha Noi      0.0\n",
              "4     1   Cau Giay   Ha Noi      0.0"
            ]
          },
          "metadata": {
            "tags": []
          },
          "execution_count": 381
        }
      ]
    },
    {
      "cell_type": "code",
      "metadata": {
        "id": "Tbb9oRJLvc-O",
        "colab_type": "code",
        "colab": {
          "base_uri": "https://localhost:8080/",
          "height": 204
        },
        "outputId": "ed5b7cba-9c6a-4800-cbfc-92b31040f856"
      },
      "source": [
        "url = 'https://data.opendevelopmentmekong.net/dataset/6f054351-bf2c-422e-8deb-0a511d63a315/resource/c906af7a-e7a0-4776-95d4-5ee815dba760/download/District.geojson'\n",
        "geo_df = geopandas.read_file(url)\n",
        "geo_df.head()"
      ],
      "execution_count": 384,
      "outputs": [
        {
          "output_type": "execute_result",
          "data": {
            "text/html": [
              "<div>\n",
              "<style scoped>\n",
              "    .dataframe tbody tr th:only-of-type {\n",
              "        vertical-align: middle;\n",
              "    }\n",
              "\n",
              "    .dataframe tbody tr th {\n",
              "        vertical-align: top;\n",
              "    }\n",
              "\n",
              "    .dataframe thead th {\n",
              "        text-align: right;\n",
              "    }\n",
              "</style>\n",
              "<table border=\"1\" class=\"dataframe\">\n",
              "  <thead>\n",
              "    <tr style=\"text-align: right;\">\n",
              "      <th></th>\n",
              "      <th>OBJECTID</th>\n",
              "      <th>f_code</th>\n",
              "      <th>Province</th>\n",
              "      <th>District</th>\n",
              "      <th>Pop_2009</th>\n",
              "      <th>Code_re</th>\n",
              "      <th>geometry</th>\n",
              "    </tr>\n",
              "  </thead>\n",
              "  <tbody>\n",
              "    <tr>\n",
              "      <th>0</th>\n",
              "      <td>1</td>\n",
              "      <td>AD02</td>\n",
              "      <td>Ca Mau</td>\n",
              "      <td>Nam Can</td>\n",
              "      <td>66229.0</td>\n",
              "      <td>96971</td>\n",
              "      <td>POLYGON ((105.05492 8.85322, 105.05819 8.85155...</td>\n",
              "    </tr>\n",
              "    <tr>\n",
              "      <th>1</th>\n",
              "      <td>2</td>\n",
              "      <td>AD02</td>\n",
              "      <td>Ca Mau</td>\n",
              "      <td>Dam Doi</td>\n",
              "      <td>182028.0</td>\n",
              "      <td>96970</td>\n",
              "      <td>POLYGON ((105.16041 9.09551, 105.16228 9.09309...</td>\n",
              "    </tr>\n",
              "    <tr>\n",
              "      <th>2</th>\n",
              "      <td>3</td>\n",
              "      <td>AD02</td>\n",
              "      <td>Ca Mau</td>\n",
              "      <td>Cai Nuoc</td>\n",
              "      <td>137396.0</td>\n",
              "      <td>96969</td>\n",
              "      <td>POLYGON ((105.08692 9.13987, 105.08773 9.13954...</td>\n",
              "    </tr>\n",
              "    <tr>\n",
              "      <th>3</th>\n",
              "      <td>4</td>\n",
              "      <td>AD02</td>\n",
              "      <td>Bac Lieu</td>\n",
              "      <td>Dong Hai</td>\n",
              "      <td>143590.0</td>\n",
              "      <td>95960</td>\n",
              "      <td>POLYGON ((105.55273 9.23437, 105.56841 9.17901...</td>\n",
              "    </tr>\n",
              "    <tr>\n",
              "      <th>4</th>\n",
              "      <td>5</td>\n",
              "      <td>AD02</td>\n",
              "      <td>Ca Mau</td>\n",
              "      <td>TP. Ca Mau</td>\n",
              "      <td>216196.0</td>\n",
              "      <td>96964</td>\n",
              "      <td>POLYGON ((105.17230 9.26629, 105.17518 9.26575...</td>\n",
              "    </tr>\n",
              "  </tbody>\n",
              "</table>\n",
              "</div>"
            ],
            "text/plain": [
              "   OBJECTID f_code  ... Code_re                                           geometry\n",
              "0         1   AD02  ...   96971  POLYGON ((105.05492 8.85322, 105.05819 8.85155...\n",
              "1         2   AD02  ...   96970  POLYGON ((105.16041 9.09551, 105.16228 9.09309...\n",
              "2         3   AD02  ...   96969  POLYGON ((105.08692 9.13987, 105.08773 9.13954...\n",
              "3         4   AD02  ...   95960  POLYGON ((105.55273 9.23437, 105.56841 9.17901...\n",
              "4         5   AD02  ...   96964  POLYGON ((105.17230 9.26629, 105.17518 9.26575...\n",
              "\n",
              "[5 rows x 7 columns]"
            ]
          },
          "metadata": {
            "tags": []
          },
          "execution_count": 384
        }
      ]
    },
    {
      "cell_type": "code",
      "metadata": {
        "id": "r5pmLvP_gjsa",
        "colab_type": "code",
        "colab": {
          "base_uri": "https://localhost:8080/",
          "height": 221
        },
        "outputId": "ad93f369-7ef3-4d1b-cac7-c09268109bfd"
      },
      "source": [
        "df = pd.merge(geo_df, df_rain, how='right', on=['District'])\n",
        "print(f'''massing rate: {df[df['Province_x'].isnull()].Province_y.value_counts().sum()/df.shape[0]:.2f}''')\n",
        "df.head()\n",
        "\n",
        "# df[df['Province_x'].isnull()]['Province_y'].value_counts().index.tolist()\n",
        "# rename_list = ['TP. Ho Chi Minh', 'Dak Lak']\n",
        "# dict(df[df['Province_x'].isnull()]['Province_y'].value_counts().index.tolist(),)"
      ],
      "execution_count": 386,
      "outputs": [
        {
          "output_type": "stream",
          "text": [
            "massing rate: 0.01\n"
          ],
          "name": "stdout"
        },
        {
          "output_type": "execute_result",
          "data": {
            "text/html": [
              "<div>\n",
              "<style scoped>\n",
              "    .dataframe tbody tr th:only-of-type {\n",
              "        vertical-align: middle;\n",
              "    }\n",
              "\n",
              "    .dataframe tbody tr th {\n",
              "        vertical-align: top;\n",
              "    }\n",
              "\n",
              "    .dataframe thead th {\n",
              "        text-align: right;\n",
              "    }\n",
              "</style>\n",
              "<table border=\"1\" class=\"dataframe\">\n",
              "  <thead>\n",
              "    <tr style=\"text-align: right;\">\n",
              "      <th></th>\n",
              "      <th>OBJECTID</th>\n",
              "      <th>f_code</th>\n",
              "      <th>Province_x</th>\n",
              "      <th>District</th>\n",
              "      <th>Pop_2009</th>\n",
              "      <th>Code_re</th>\n",
              "      <th>geometry</th>\n",
              "      <th>p_id</th>\n",
              "      <th>Province_y</th>\n",
              "      <th>yr_rain</th>\n",
              "    </tr>\n",
              "  </thead>\n",
              "  <tbody>\n",
              "    <tr>\n",
              "      <th>0</th>\n",
              "      <td>1.0</td>\n",
              "      <td>AD02</td>\n",
              "      <td>Ca Mau</td>\n",
              "      <td>Nam Can</td>\n",
              "      <td>66229.0</td>\n",
              "      <td>96971</td>\n",
              "      <td>POLYGON ((105.05492 8.85322, 105.05819 8.85155...</td>\n",
              "      <td>96</td>\n",
              "      <td>Ca Mau</td>\n",
              "      <td>0.000000</td>\n",
              "    </tr>\n",
              "    <tr>\n",
              "      <th>1</th>\n",
              "      <td>2.0</td>\n",
              "      <td>AD02</td>\n",
              "      <td>Ca Mau</td>\n",
              "      <td>Dam Doi</td>\n",
              "      <td>182028.0</td>\n",
              "      <td>96970</td>\n",
              "      <td>POLYGON ((105.16041 9.09551, 105.16228 9.09309...</td>\n",
              "      <td>96</td>\n",
              "      <td>Ca Mau</td>\n",
              "      <td>0.022320</td>\n",
              "    </tr>\n",
              "    <tr>\n",
              "      <th>2</th>\n",
              "      <td>3.0</td>\n",
              "      <td>AD02</td>\n",
              "      <td>Ca Mau</td>\n",
              "      <td>Cai Nuoc</td>\n",
              "      <td>137396.0</td>\n",
              "      <td>96969</td>\n",
              "      <td>POLYGON ((105.08692 9.13987, 105.08773 9.13954...</td>\n",
              "      <td>96</td>\n",
              "      <td>Ca Mau</td>\n",
              "      <td>0.022957</td>\n",
              "    </tr>\n",
              "    <tr>\n",
              "      <th>3</th>\n",
              "      <td>4.0</td>\n",
              "      <td>AD02</td>\n",
              "      <td>Bac Lieu</td>\n",
              "      <td>Dong Hai</td>\n",
              "      <td>143590.0</td>\n",
              "      <td>95960</td>\n",
              "      <td>POLYGON ((105.55273 9.23437, 105.56841 9.17901...</td>\n",
              "      <td>95</td>\n",
              "      <td>Bac Lieu</td>\n",
              "      <td>0.023468</td>\n",
              "    </tr>\n",
              "    <tr>\n",
              "      <th>4</th>\n",
              "      <td>7.0</td>\n",
              "      <td>AD02</td>\n",
              "      <td>Bac Lieu</td>\n",
              "      <td>Gia Rai</td>\n",
              "      <td>137249.0</td>\n",
              "      <td>95959</td>\n",
              "      <td>POLYGON ((105.40669 9.34557, 105.40888 9.34439...</td>\n",
              "      <td>95</td>\n",
              "      <td>Bac Lieu</td>\n",
              "      <td>0.000000</td>\n",
              "    </tr>\n",
              "  </tbody>\n",
              "</table>\n",
              "</div>"
            ],
            "text/plain": [
              "   OBJECTID f_code Province_x  ... p_id  Province_y   yr_rain\n",
              "0       1.0   AD02     Ca Mau  ...   96      Ca Mau  0.000000\n",
              "1       2.0   AD02     Ca Mau  ...   96      Ca Mau  0.022320\n",
              "2       3.0   AD02     Ca Mau  ...   96      Ca Mau  0.022957\n",
              "3       4.0   AD02   Bac Lieu  ...   95    Bac Lieu  0.023468\n",
              "4       7.0   AD02   Bac Lieu  ...   95    Bac Lieu  0.000000\n",
              "\n",
              "[5 rows x 10 columns]"
            ]
          },
          "metadata": {
            "tags": []
          },
          "execution_count": 386
        }
      ]
    },
    {
      "cell_type": "code",
      "metadata": {
        "id": "rINKCfOBe-OU",
        "colab_type": "code",
        "colab": {}
      },
      "source": [
        "# confirming the saving directory\n",
        "# %cd '/content/drive/My Drive/Thanh_map' \n",
        "# df = df_rain\n",
        "df['yr_rain'] = df['yr_rain']/df['yr_rain'].max() # scale the rain_level to [0,1].\n",
        "bins = list(df['yr_rain'].quantile([0, 0.25, 0.5, 0.75, 1])) # make the pattern more obvious.\n",
        "\n",
        "map_g = folium.Map(location=[14,108],zoom_start=5 , prefer_canvas=True)\n",
        "\n",
        "folium.Choropleth(geo_data=url,\n",
        "    name='choropleth',\n",
        "    data=df,\n",
        "    columns=['District', 'yr_rain'],\n",
        "    key_on='feature.properties.District',\n",
        "    fill_color='YlGn',\n",
        "    fill_opacity=0.7,\n",
        "    line_opacity=0.2,  bins=bins,\n",
        "    reset=True,\n",
        "    legend_name='Vitnam Precipitation, 1947-1948').add_to(map_g)\n",
        "\n",
        "folium.LayerControl().add_to(map_g)\n",
        "\n",
        "map_g.save('map_precipitation.html')\n",
        "df.to_csv('vn_2009_geojson.csv')"
      ],
      "execution_count": 0,
      "outputs": []
    },
    {
      "cell_type": "code",
      "metadata": {
        "id": "9cBxffh60sRy",
        "colab_type": "code",
        "colab": {
          "base_uri": "https://localhost:8080/",
          "height": 102
        },
        "outputId": "3a2bfc30-cdf8-44a4-c3e1-bc9721f3ab08"
      },
      "source": [
        "df_rain['yr_rain'].value_counts(bins=4)"
      ],
      "execution_count": 393,
      "outputs": [
        {
          "output_type": "execute_result",
          "data": {
            "text/plain": [
              "(-0.001043, 0.0107]    353\n",
              "(0.0107, 0.0215]       212\n",
              "(0.0215, 0.0322]       124\n",
              "(0.0322, 0.043]          4\n",
              "Name: yr_rain, dtype: int64"
            ]
          },
          "metadata": {
            "tags": []
          },
          "execution_count": 393
        }
      ]
    },
    {
      "cell_type": "code",
      "metadata": {
        "id": "Dvrslw_91Ce1",
        "colab_type": "code",
        "colab": {
          "base_uri": "https://localhost:8080/",
          "height": 34
        },
        "outputId": "3469598e-4eaf-4644-867c-7dfe9356129d"
      },
      "source": [
        "bins"
      ],
      "execution_count": 394,
      "outputs": [
        {
          "output_type": "execute_result",
          "data": {
            "text/plain": [
              "[0.0, 0.0, 0.4006894766110811, 0.49464192634638016, 1.0]"
            ]
          },
          "metadata": {
            "tags": []
          },
          "execution_count": 394
        }
      ]
    }
  ]
}